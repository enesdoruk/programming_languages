{
 "cells": [
  {
   "cell_type": "code",
   "execution_count": 1,
   "metadata": {},
   "outputs": [],
   "source": [
    "from PyQt5.QtWidgets import *\n",
    "from PyQt5.QtGui import *\n",
    "from PyQt5.QtCore import *\n",
    "import sys"
   ]
  },
  {
   "cell_type": "code",
   "execution_count": 2,
   "metadata": {},
   "outputs": [
    {
     "ename": "SystemExit",
     "evalue": "0",
     "output_type": "error",
     "traceback": [
      "An exception has occurred, use %tb to see the full traceback.\n",
      "\u001b[1;31mSystemExit\u001b[0m\u001b[1;31m:\u001b[0m 0\n"
     ]
    },
    {
     "name": "stderr",
     "output_type": "stream",
     "text": [
      "C:\\Anaconda3\\lib\\site-packages\\IPython\\core\\interactiveshell.py:3304: UserWarning: To exit: use 'exit', 'quit', or Ctrl-D.\n",
      "  warn(\"To exit: use 'exit', 'quit', or Ctrl-D.\", stacklevel=1)\n"
     ]
    }
   ],
   "source": [
    "class pencere(QWidget):\n",
    "    def __init__(self):\n",
    "        super().__init__()\n",
    "        self.setUI()\n",
    "        \n",
    "    def setUI(self):\n",
    "        \n",
    "        self.label = QLabel(\"\")\n",
    "        button1 =QPushButton(\"button1\")\n",
    "        button2 =QPushButton(\"button2\")\n",
    "        button3 =QPushButton(\"button3\")\n",
    "        \n",
    "        \n",
    "        v_box = QVBoxLayout()\n",
    "        v_box.addWidget(self.label)\n",
    "        v_box.addWidget(button1)\n",
    "        v_box.addWidget(button2)\n",
    "        v_box.addWidget(button3)\n",
    "       \n",
    "        self.setLayout(v_box)\n",
    "        \n",
    "        \n",
    "        button1.clicked.connect(self.yap1)\n",
    "        button2.clicked.connect(self.yap2)\n",
    "        button3.clicked.connect(self.yap3)\n",
    "        \n",
    "        self.show()\n",
    "        \n",
    "    def yap1(self):\n",
    "        self.label.setText(\"button1 tıklandı\")\n",
    "    def yap2(self):\n",
    "        self.label.setText(\"button2 tıklandı\")\n",
    "    def yap3(self):\n",
    "        self.label.setText(\"button3 tıklandı\")   \n",
    "        \n",
    "        \n",
    "if __name__ ==\"__main__\":\n",
    "    app = QApplication(sys.argv)\n",
    "    pencere =pencere()\n",
    "    sys.exit(app.exec())"
   ]
  },
  {
   "cell_type": "code",
   "execution_count": null,
   "metadata": {},
   "outputs": [],
   "source": []
  }
 ],
 "metadata": {
  "kernelspec": {
   "display_name": "Python 3",
   "language": "python",
   "name": "python3"
  },
  "language_info": {
   "codemirror_mode": {
    "name": "ipython",
    "version": 3
   },
   "file_extension": ".py",
   "mimetype": "text/x-python",
   "name": "python",
   "nbconvert_exporter": "python",
   "pygments_lexer": "ipython3",
   "version": "3.7.3"
  }
 },
 "nbformat": 4,
 "nbformat_minor": 2
}
